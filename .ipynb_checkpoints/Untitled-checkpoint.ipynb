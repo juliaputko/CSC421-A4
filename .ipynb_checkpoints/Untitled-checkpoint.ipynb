{
 "cells": [
  {
   "cell_type": "markdown",
   "id": "ae556bf3-185f-4c2d-9e53-e3200e7c14cf",
   "metadata": {},
   "source": [
    " $P(X_t|e_{1:t})$. \n",
    " \n",
    " \n",
    " \n",
    "\n",
    "$P(e_{1:T})$."
   ]
  },
  {
   "cell_type": "code",
   "execution_count": null,
   "id": "a39c17c6-cba9-4010-8de7-58cad6f4d4ae",
   "metadata": {},
   "outputs": [],
   "source": []
  }
 ],
 "metadata": {
  "kernelspec": {
   "display_name": "Python 3",
   "language": "python",
   "name": "python3"
  },
  "language_info": {
   "codemirror_mode": {
    "name": "ipython",
    "version": 3
   },
   "file_extension": ".py",
   "mimetype": "text/x-python",
   "name": "python",
   "nbconvert_exporter": "python",
   "pygments_lexer": "ipython3",
   "version": "3.9.2"
  }
 },
 "nbformat": 4,
 "nbformat_minor": 5
}
